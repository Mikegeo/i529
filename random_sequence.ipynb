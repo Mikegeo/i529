{
 "cells": [
  {
   "cell_type": "markdown",
   "metadata": {},
   "source": [
    "# Generating a random sequence\n",
    "\n",
    "We will build up to building a random sequence representing an unknown genome, but let's start simple. \n",
    "\n",
    "### A sequence of integers\n",
    "\n",
    "Let's build a random sequence of integers first, using M integers to build a sequence of length L."
   ]
  },
  {
   "cell_type": "code",
   "execution_count": 1,
   "metadata": {
    "scrolled": true
   },
   "outputs": [
    {
     "name": "stdout",
     "output_type": "stream",
     "text": [
      "2341334143\n"
     ]
    }
   ],
   "source": [
    "from random import randint\n",
    "\n",
    "sequence = ''\n",
    "length = 10\n",
    "M=4\n",
    "\n",
    "for i in range(length) :\n",
    "    sequence += str(randint(1,M))\n",
    "    \n",
    "print (sequence)"
   ]
  },
  {
   "cell_type": "markdown",
   "metadata": {},
   "source": [
    "That was easy using the random integer generator function `randint()` that comes with Python. \n",
    "\n",
    "We used the `str()` function to convert the integers to strings and used the shorthand 'append' operator +=. \n",
    "\n",
    "### A sequence of letters\n",
    "\n",
    "Let's step it up now and generate a random sequence of letters instead. We will do this by mapping integers to our aphabet. \n"
   ]
  },
  {
   "cell_type": "code",
   "execution_count": 2,
   "metadata": {
    "scrolled": true
   },
   "outputs": [
    {
     "name": "stdout",
     "output_type": "stream",
     "text": [
      "TAATCATCTT\n"
     ]
    }
   ],
   "source": [
    "sequence = ''\n",
    "\n",
    "alphabet = {1:'A', 2:'C', 3:'T', 4:'G'}\n",
    "\n",
    "for i in range(length) :\n",
    "    sequence += alphabet[randint(1,M)]\n",
    "    \n",
    "print (sequence)"
   ]
  },
  {
   "cell_type": "markdown",
   "metadata": {},
   "source": [
    "That went pretty smooth. All we needed was to define a **dictionary** that keeps the integer-to-letter mapping for our alphabet. \n",
    "\n",
    "Note that we did not need to import the randint function again because it is already in our namespace now. \n",
    "\n",
    "### A sequence of given composition\n",
    "\n",
    "Unfortunately, this approach is limited. This is because randint returns **uniformly distributed** integers. In practice, we usually want to generate random sequences mimicing a given composition. \n",
    "\n",
    "Let's say we want a random sequence with  the following composition :\n",
    "  * %15 A\n",
    "  * %25 C\n",
    "  * %50 T\n",
    "  * %10 G\n",
    "  "
   ]
  },
  {
   "cell_type": "code",
   "execution_count": 3,
   "metadata": {},
   "outputs": [
    {
     "name": "stdout",
     "output_type": "stream",
     "text": [
      "TTTGAAATCG\n"
     ]
    }
   ],
   "source": [
    "from random import random\n",
    "\n",
    "sequence = ''\n",
    "\n",
    "for i in range(length) :\n",
    "    dice = random()\n",
    "    if dice < 0.15 :\n",
    "        sequence += 'A'\n",
    "    elif dice < 0.4 :\n",
    "        sequence += 'C'\n",
    "    elif dice < 0.9 :\n",
    "        sequence += 'T' \n",
    "    else :\n",
    "        sequence += 'G'\n",
    "        \n",
    "print (sequence)"
   ]
  },
  {
   "cell_type": "markdown",
   "metadata": {},
   "source": [
    "This works correctly but it is a long way from usable code. We write this kind of code where we **hard-code** variables as a **proof of concept**. It may be ok fore a quick experimentation but certainly not for practical usage. \n",
    "\n",
    "### Generalizing the proof of concept\n",
    "\n",
    "We have an alphabet and composition, we can use a dictionary to hold them both nicely. We should then do the partitioning of the [0,1) interval algorithmically. \n",
    "\n"
   ]
  },
  {
   "cell_type": "code",
   "execution_count": 4,
   "metadata": {},
   "outputs": [
    {
     "name": "stdout",
     "output_type": "stream",
     "text": [
      "[0.15, 0.4, 0.9, 1.0]\n",
      "TTATTCGATT\n"
     ]
    }
   ],
   "source": [
    "composition = {'A':0.15, 'C':0.25, 'T':0.50, 'G':0.1}\n",
    "\n",
    "sequence = ''\n",
    "\n",
    "alphabet = composition.keys()\n",
    "\n",
    "bound = 0 \n",
    "bounds = []\n",
    "for char in alphabet :\n",
    "    bound += composition[char]\n",
    "    bounds.append(bound)\n",
    "\n",
    "print (bounds)\n",
    "\n",
    "for i in range (length) :\n",
    "    dice = random()\n",
    "    for char, bound  in zip (alphabet, bounds) :\n",
    "        if dice < bound :\n",
    "            sequence+=char\n",
    "            break\n",
    "    \n",
    "print (sequence)"
   ]
  },
  {
   "cell_type": "markdown",
   "metadata": {},
   "source": [
    "Note that his works for any composition and alphabet, we only need to provide a dictionary representing the composition and integer representing a length.\n",
    "\n",
    "### Make a function\n",
    "\n",
    "Now that we have such a general version, we can make it a function so we can freely use it without any code duplication. Instead of printing, we should **return** the sequence so the user may do what s/he wants to do with it."
   ]
  },
  {
   "cell_type": "code",
   "execution_count": 5,
   "metadata": {},
   "outputs": [],
   "source": [
    "def MakeRandomSequence(composition, length) : \n",
    "    sequence = ''\n",
    "\n",
    "    alphabet = composition.keys()\n",
    "\n",
    "    bound = 0 \n",
    "    bounds = []\n",
    "    for char in alphabet :\n",
    "        bound += composition[char]\n",
    "        bounds.append(bound)\n",
    "\n",
    "    assert 0.99< bounds[-1] < 1.01 \n",
    "    \n",
    "    for i in range (length) :\n",
    "        dice = random()\n",
    "        for char, bound  in zip (alphabet, bounds) :\n",
    "            if dice < bound :\n",
    "                sequence+=char\n",
    "                break\n",
    "    \n",
    "    return sequence\n",
    "    "
   ]
  },
  {
   "cell_type": "markdown",
   "metadata": {},
   "source": [
    "Note the assert statement. We want to make sure the function refuses to run if the user provides faulty input. \n",
    "\n",
    "Now with the function it is very easy to change our **parameters**. \n"
   ]
  },
  {
   "cell_type": "code",
   "execution_count": 6,
   "metadata": {},
   "outputs": [
    {
     "name": "stdout",
     "output_type": "stream",
     "text": [
      "BBBBABAAABABBABBBABA\n"
     ]
    }
   ],
   "source": [
    "composition = {'A':0.3, 'B':0.7}\n",
    "print (MakeRandomSequence(composition, 20))"
   ]
  },
  {
   "cell_type": "markdown",
   "metadata": {},
   "source": [
    "It will also give us a warning if the input is not sane :\n"
   ]
  },
  {
   "cell_type": "code",
   "execution_count": 7,
   "metadata": {},
   "outputs": [
    {
     "ename": "AssertionError",
     "evalue": "",
     "output_type": "error",
     "traceback": [
      "\u001b[0;31m---------------------------------------------------------------------------\u001b[0m",
      "\u001b[0;31mAssertionError\u001b[0m                            Traceback (most recent call last)",
      "\u001b[0;32m<ipython-input-7-2efae8a51dc9>\u001b[0m in \u001b[0;36m<module>\u001b[0;34m()\u001b[0m\n\u001b[1;32m      1\u001b[0m \u001b[0mcomposition\u001b[0m \u001b[0;34m=\u001b[0m \u001b[0;34m{\u001b[0m\u001b[0;34m'A'\u001b[0m\u001b[0;34m:\u001b[0m\u001b[0;36m0.3\u001b[0m\u001b[0;34m,\u001b[0m \u001b[0;34m'B'\u001b[0m\u001b[0;34m:\u001b[0m\u001b[0;36m0.6\u001b[0m\u001b[0;34m}\u001b[0m\u001b[0;34m\u001b[0m\u001b[0m\n\u001b[0;32m----> 2\u001b[0;31m \u001b[0mprint\u001b[0m \u001b[0;34m(\u001b[0m\u001b[0mMakeRandomSequence\u001b[0m\u001b[0;34m(\u001b[0m\u001b[0mcomposition\u001b[0m\u001b[0;34m,\u001b[0m \u001b[0;36m20\u001b[0m\u001b[0;34m)\u001b[0m\u001b[0;34m)\u001b[0m\u001b[0;34m\u001b[0m\u001b[0m\n\u001b[0m",
      "\u001b[0;32m<ipython-input-5-b49ae03ead41>\u001b[0m in \u001b[0;36mMakeRandomSequence\u001b[0;34m(composition, length)\u001b[0m\n\u001b[1;32m     10\u001b[0m         \u001b[0mbounds\u001b[0m\u001b[0;34m.\u001b[0m\u001b[0mappend\u001b[0m\u001b[0;34m(\u001b[0m\u001b[0mbound\u001b[0m\u001b[0;34m)\u001b[0m\u001b[0;34m\u001b[0m\u001b[0m\n\u001b[1;32m     11\u001b[0m \u001b[0;34m\u001b[0m\u001b[0m\n\u001b[0;32m---> 12\u001b[0;31m     \u001b[0;32massert\u001b[0m \u001b[0;36m0.99\u001b[0m\u001b[0;34m<\u001b[0m \u001b[0mbounds\u001b[0m\u001b[0;34m[\u001b[0m\u001b[0;34m-\u001b[0m\u001b[0;36m1\u001b[0m\u001b[0;34m]\u001b[0m \u001b[0;34m<\u001b[0m \u001b[0;36m1.01\u001b[0m\u001b[0;34m\u001b[0m\u001b[0m\n\u001b[0m\u001b[1;32m     13\u001b[0m \u001b[0;34m\u001b[0m\u001b[0m\n\u001b[1;32m     14\u001b[0m     \u001b[0;32mfor\u001b[0m \u001b[0mi\u001b[0m \u001b[0;32min\u001b[0m \u001b[0mrange\u001b[0m \u001b[0;34m(\u001b[0m\u001b[0mlength\u001b[0m\u001b[0;34m)\u001b[0m \u001b[0;34m:\u001b[0m\u001b[0;34m\u001b[0m\u001b[0m\n",
      "\u001b[0;31mAssertionError\u001b[0m: "
     ]
    }
   ],
   "source": [
    "composition = {'A':0.3, 'B':0.6}\n",
    "print (MakeRandomSequence(composition, 20))"
   ]
  },
  {
   "cell_type": "markdown",
   "metadata": {},
   "source": [
    "Don't be ciscouraged by the error, this is **good behavior**. If only all code was written this way. \n",
    "\n",
    "### Writing to a fasta file\n",
    "\n",
    "Now, printing the output is ok for debugging, but we can't really process a random sequence with our eyes, especially a longer one. We also probably want to do something with the output later. Genomic sequence data is usually kept in **fasta** format. We can use the Biopyhon library to read/write this format.\n",
    "\n",
    "Let's make use of our new function and write a large random genome to a fasta file"
   ]
  },
  {
   "cell_type": "code",
   "execution_count": 8,
   "metadata": {},
   "outputs": [
    {
     "data": {
      "text/plain": [
       "1"
      ]
     },
     "execution_count": 8,
     "metadata": {},
     "output_type": "execute_result"
    }
   ],
   "source": [
    "from Bio.Seq import Seq\n",
    "from Bio import SeqIO\n",
    "\n",
    "composition = {'A':0.15, 'C':0.25, 'T':0.50, 'G':0.1}\n",
    "\n",
    "sequence = Seq(MakeRandomSequence(composition, 1000))\n",
    "\n",
    "record = SeqIO.SeqRecord( sequence, 'random_sequence')\n",
    "\n",
    "SeqIO.write(record, 'random.fasta', 'fasta')\n"
   ]
  },
  {
   "cell_type": "markdown",
   "metadata": {},
   "source": [
    "Now, let's go look at the actual file we have written. "
   ]
  }
 ],
 "metadata": {
  "kernelspec": {
   "display_name": "Python 3",
   "language": "python",
   "name": "python3"
  },
  "language_info": {
   "codemirror_mode": {
    "name": "ipython",
    "version": 3
   },
   "file_extension": ".py",
   "mimetype": "text/x-python",
   "name": "python",
   "nbconvert_exporter": "python",
   "pygments_lexer": "ipython3",
   "version": "3.6.2"
  }
 },
 "nbformat": 4,
 "nbformat_minor": 2
}
